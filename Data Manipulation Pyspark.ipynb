{
  "nbformat": 4,
  "nbformat_minor": 0,
  "metadata": {
    "colab": {
      "provenance": [],
      "authorship_tag": "ABX9TyNuZUWsRlze1jI7WKzqC337",
      "include_colab_link": true
    },
    "kernelspec": {
      "name": "python3",
      "display_name": "Python 3"
    },
    "language_info": {
      "name": "python"
    }
  },
  "cells": [
    {
      "cell_type": "markdown",
      "metadata": {
        "id": "view-in-github",
        "colab_type": "text"
      },
      "source": [
        "<a href=\"https://colab.research.google.com/github/radhikaleo007/Python/blob/main/Data%20Manipulation%20Pyspark.ipynb\" target=\"_parent\"><img src=\"https://colab.research.google.com/assets/colab-badge.svg\" alt=\"Open In Colab\"/></a>"
      ]
    },
    {
      "cell_type": "code",
      "execution_count": 4,
      "metadata": {
        "colab": {
          "base_uri": "https://localhost:8080/"
        },
        "id": "gB2iyuVvZc1X",
        "outputId": "5a7cf170-8336-4bda-91ae-9c07ee83bc55"
      },
      "outputs": [
        {
          "output_type": "stream",
          "name": "stdout",
          "text": [
            "Collecting pyspark\n",
            "  Downloading pyspark-3.5.3.tar.gz (317.3 MB)\n",
            "\u001b[2K     \u001b[90m━━━━━━━━━━━━━━━━━━━━━━━━━━━━━━━━━━━━━━━━\u001b[0m \u001b[32m317.3/317.3 MB\u001b[0m \u001b[31m4.7 MB/s\u001b[0m eta \u001b[36m0:00:00\u001b[0m\n",
            "\u001b[?25h  Preparing metadata (setup.py) ... \u001b[?25l\u001b[?25hdone\n",
            "Requirement already satisfied: py4j==0.10.9.7 in /usr/local/lib/python3.10/dist-packages (from pyspark) (0.10.9.7)\n",
            "Building wheels for collected packages: pyspark\n",
            "  Building wheel for pyspark (setup.py) ... \u001b[?25l\u001b[?25hdone\n",
            "  Created wheel for pyspark: filename=pyspark-3.5.3-py2.py3-none-any.whl size=317840625 sha256=05484eabd6642baf07a8ac9fa2c9dc297979f362f06a2fd19af1942a1629f862\n",
            "  Stored in directory: /root/.cache/pip/wheels/1b/3a/92/28b93e2fbfdbb07509ca4d6f50c5e407f48dce4ddbda69a4ab\n",
            "Successfully built pyspark\n",
            "Installing collected packages: pyspark\n",
            "Successfully installed pyspark-3.5.3\n"
          ]
        }
      ],
      "source": [
        "#install pyspark\n",
        "!pip install pyspark"
      ]
    },
    {
      "cell_type": "code",
      "source": [
        "#import pyspark\n",
        "import pyspark"
      ],
      "metadata": {
        "id": "D8NFmWzNaDpe"
      },
      "execution_count": 5,
      "outputs": []
    },
    {
      "cell_type": "code",
      "source": [
        "#check version\n",
        "pyspark.__version__"
      ],
      "metadata": {
        "colab": {
          "base_uri": "https://localhost:8080/",
          "height": 36
        },
        "id": "EjjwxWCcaMzM",
        "outputId": "9742ff2e-58b1-4df6-c537-75796e0288a3"
      },
      "execution_count": 6,
      "outputs": [
        {
          "output_type": "execute_result",
          "data": {
            "text/plain": [
              "'3.5.3'"
            ],
            "application/vnd.google.colaboratory.intrinsic+json": {
              "type": "string"
            }
          },
          "metadata": {},
          "execution_count": 6
        }
      ]
    },
    {
      "cell_type": "code",
      "source": [
        "#start spark session\n",
        "from pyspark.sql import SparkSession\n",
        "spark = SparkSession.builder\\\n",
        ".master('local[*]')\\\n",
        ".appName('MyApp')\\\n",
        ".getOrCreate()"
      ],
      "metadata": {
        "id": "wvbskrvan-uB"
      },
      "execution_count": 7,
      "outputs": []
    },
    {
      "cell_type": "code",
      "source": [
        "#read external data with url\n",
        "import pandas as pd\n",
        "house = pd.read_csv(\"https://github.com/YBI-Foundation/Dataset/raw/refs/heads/main/Boston.csv\")\n",
        "house.to_csv('house')"
      ],
      "metadata": {
        "id": "levePRldiEK9"
      },
      "execution_count": 11,
      "outputs": []
    },
    {
      "cell_type": "code",
      "source": [
        "house.head(4)"
      ],
      "metadata": {
        "colab": {
          "base_uri": "https://localhost:8080/",
          "height": 175
        },
        "id": "LNxP_FuWizBi",
        "outputId": "62aa0372-3bea-4f1c-ef3e-27428b1ba9c8"
      },
      "execution_count": 2,
      "outputs": [
        {
          "output_type": "execute_result",
          "data": {
            "text/plain": [
              "      CRIM    ZN  INDUS  CHAS     NX     RM   AGE     DIS  RAD    TAX  \\\n",
              "0  0.00632  18.0   2.31     0  0.538  6.575  65.2  4.0900    1  296.0   \n",
              "1  0.02731   0.0   7.07     0  0.469  6.421  78.9  4.9671    2  242.0   \n",
              "2  0.02729   0.0   7.07     0  0.469  7.185  61.1  4.9671    2  242.0   \n",
              "3  0.03237   0.0   2.18     0  0.458  6.998  45.8  6.0622    3  222.0   \n",
              "\n",
              "   PTRATIO       B  LSTAT  MEDV  \n",
              "0     15.3  396.90   4.98  24.0  \n",
              "1     17.8  396.90   9.14  21.6  \n",
              "2     17.8  392.83   4.03  34.7  \n",
              "3     18.7  394.63   2.94  33.4  "
            ],
            "text/html": [
              "\n",
              "  <div id=\"df-4febb8dc-e3f1-4108-b0c5-211a5fbd8393\" class=\"colab-df-container\">\n",
              "    <div>\n",
              "<style scoped>\n",
              "    .dataframe tbody tr th:only-of-type {\n",
              "        vertical-align: middle;\n",
              "    }\n",
              "\n",
              "    .dataframe tbody tr th {\n",
              "        vertical-align: top;\n",
              "    }\n",
              "\n",
              "    .dataframe thead th {\n",
              "        text-align: right;\n",
              "    }\n",
              "</style>\n",
              "<table border=\"1\" class=\"dataframe\">\n",
              "  <thead>\n",
              "    <tr style=\"text-align: right;\">\n",
              "      <th></th>\n",
              "      <th>CRIM</th>\n",
              "      <th>ZN</th>\n",
              "      <th>INDUS</th>\n",
              "      <th>CHAS</th>\n",
              "      <th>NX</th>\n",
              "      <th>RM</th>\n",
              "      <th>AGE</th>\n",
              "      <th>DIS</th>\n",
              "      <th>RAD</th>\n",
              "      <th>TAX</th>\n",
              "      <th>PTRATIO</th>\n",
              "      <th>B</th>\n",
              "      <th>LSTAT</th>\n",
              "      <th>MEDV</th>\n",
              "    </tr>\n",
              "  </thead>\n",
              "  <tbody>\n",
              "    <tr>\n",
              "      <th>0</th>\n",
              "      <td>0.00632</td>\n",
              "      <td>18.0</td>\n",
              "      <td>2.31</td>\n",
              "      <td>0</td>\n",
              "      <td>0.538</td>\n",
              "      <td>6.575</td>\n",
              "      <td>65.2</td>\n",
              "      <td>4.0900</td>\n",
              "      <td>1</td>\n",
              "      <td>296.0</td>\n",
              "      <td>15.3</td>\n",
              "      <td>396.90</td>\n",
              "      <td>4.98</td>\n",
              "      <td>24.0</td>\n",
              "    </tr>\n",
              "    <tr>\n",
              "      <th>1</th>\n",
              "      <td>0.02731</td>\n",
              "      <td>0.0</td>\n",
              "      <td>7.07</td>\n",
              "      <td>0</td>\n",
              "      <td>0.469</td>\n",
              "      <td>6.421</td>\n",
              "      <td>78.9</td>\n",
              "      <td>4.9671</td>\n",
              "      <td>2</td>\n",
              "      <td>242.0</td>\n",
              "      <td>17.8</td>\n",
              "      <td>396.90</td>\n",
              "      <td>9.14</td>\n",
              "      <td>21.6</td>\n",
              "    </tr>\n",
              "    <tr>\n",
              "      <th>2</th>\n",
              "      <td>0.02729</td>\n",
              "      <td>0.0</td>\n",
              "      <td>7.07</td>\n",
              "      <td>0</td>\n",
              "      <td>0.469</td>\n",
              "      <td>7.185</td>\n",
              "      <td>61.1</td>\n",
              "      <td>4.9671</td>\n",
              "      <td>2</td>\n",
              "      <td>242.0</td>\n",
              "      <td>17.8</td>\n",
              "      <td>392.83</td>\n",
              "      <td>4.03</td>\n",
              "      <td>34.7</td>\n",
              "    </tr>\n",
              "    <tr>\n",
              "      <th>3</th>\n",
              "      <td>0.03237</td>\n",
              "      <td>0.0</td>\n",
              "      <td>2.18</td>\n",
              "      <td>0</td>\n",
              "      <td>0.458</td>\n",
              "      <td>6.998</td>\n",
              "      <td>45.8</td>\n",
              "      <td>6.0622</td>\n",
              "      <td>3</td>\n",
              "      <td>222.0</td>\n",
              "      <td>18.7</td>\n",
              "      <td>394.63</td>\n",
              "      <td>2.94</td>\n",
              "      <td>33.4</td>\n",
              "    </tr>\n",
              "  </tbody>\n",
              "</table>\n",
              "</div>\n",
              "    <div class=\"colab-df-buttons\">\n",
              "\n",
              "  <div class=\"colab-df-container\">\n",
              "    <button class=\"colab-df-convert\" onclick=\"convertToInteractive('df-4febb8dc-e3f1-4108-b0c5-211a5fbd8393')\"\n",
              "            title=\"Convert this dataframe to an interactive table.\"\n",
              "            style=\"display:none;\">\n",
              "\n",
              "  <svg xmlns=\"http://www.w3.org/2000/svg\" height=\"24px\" viewBox=\"0 -960 960 960\">\n",
              "    <path d=\"M120-120v-720h720v720H120Zm60-500h600v-160H180v160Zm220 220h160v-160H400v160Zm0 220h160v-160H400v160ZM180-400h160v-160H180v160Zm440 0h160v-160H620v160ZM180-180h160v-160H180v160Zm440 0h160v-160H620v160Z\"/>\n",
              "  </svg>\n",
              "    </button>\n",
              "\n",
              "  <style>\n",
              "    .colab-df-container {\n",
              "      display:flex;\n",
              "      gap: 12px;\n",
              "    }\n",
              "\n",
              "    .colab-df-convert {\n",
              "      background-color: #E8F0FE;\n",
              "      border: none;\n",
              "      border-radius: 50%;\n",
              "      cursor: pointer;\n",
              "      display: none;\n",
              "      fill: #1967D2;\n",
              "      height: 32px;\n",
              "      padding: 0 0 0 0;\n",
              "      width: 32px;\n",
              "    }\n",
              "\n",
              "    .colab-df-convert:hover {\n",
              "      background-color: #E2EBFA;\n",
              "      box-shadow: 0px 1px 2px rgba(60, 64, 67, 0.3), 0px 1px 3px 1px rgba(60, 64, 67, 0.15);\n",
              "      fill: #174EA6;\n",
              "    }\n",
              "\n",
              "    .colab-df-buttons div {\n",
              "      margin-bottom: 4px;\n",
              "    }\n",
              "\n",
              "    [theme=dark] .colab-df-convert {\n",
              "      background-color: #3B4455;\n",
              "      fill: #D2E3FC;\n",
              "    }\n",
              "\n",
              "    [theme=dark] .colab-df-convert:hover {\n",
              "      background-color: #434B5C;\n",
              "      box-shadow: 0px 1px 3px 1px rgba(0, 0, 0, 0.15);\n",
              "      filter: drop-shadow(0px 1px 2px rgba(0, 0, 0, 0.3));\n",
              "      fill: #FFFFFF;\n",
              "    }\n",
              "  </style>\n",
              "\n",
              "    <script>\n",
              "      const buttonEl =\n",
              "        document.querySelector('#df-4febb8dc-e3f1-4108-b0c5-211a5fbd8393 button.colab-df-convert');\n",
              "      buttonEl.style.display =\n",
              "        google.colab.kernel.accessAllowed ? 'block' : 'none';\n",
              "\n",
              "      async function convertToInteractive(key) {\n",
              "        const element = document.querySelector('#df-4febb8dc-e3f1-4108-b0c5-211a5fbd8393');\n",
              "        const dataTable =\n",
              "          await google.colab.kernel.invokeFunction('convertToInteractive',\n",
              "                                                    [key], {});\n",
              "        if (!dataTable) return;\n",
              "\n",
              "        const docLinkHtml = 'Like what you see? Visit the ' +\n",
              "          '<a target=\"_blank\" href=https://colab.research.google.com/notebooks/data_table.ipynb>data table notebook</a>'\n",
              "          + ' to learn more about interactive tables.';\n",
              "        element.innerHTML = '';\n",
              "        dataTable['output_type'] = 'display_data';\n",
              "        await google.colab.output.renderOutput(dataTable, element);\n",
              "        const docLink = document.createElement('div');\n",
              "        docLink.innerHTML = docLinkHtml;\n",
              "        element.appendChild(docLink);\n",
              "      }\n",
              "    </script>\n",
              "  </div>\n",
              "\n",
              "\n",
              "<div id=\"df-a9c50a2e-dc47-4801-9482-457a7692215e\">\n",
              "  <button class=\"colab-df-quickchart\" onclick=\"quickchart('df-a9c50a2e-dc47-4801-9482-457a7692215e')\"\n",
              "            title=\"Suggest charts\"\n",
              "            style=\"display:none;\">\n",
              "\n",
              "<svg xmlns=\"http://www.w3.org/2000/svg\" height=\"24px\"viewBox=\"0 0 24 24\"\n",
              "     width=\"24px\">\n",
              "    <g>\n",
              "        <path d=\"M19 3H5c-1.1 0-2 .9-2 2v14c0 1.1.9 2 2 2h14c1.1 0 2-.9 2-2V5c0-1.1-.9-2-2-2zM9 17H7v-7h2v7zm4 0h-2V7h2v10zm4 0h-2v-4h2v4z\"/>\n",
              "    </g>\n",
              "</svg>\n",
              "  </button>\n",
              "\n",
              "<style>\n",
              "  .colab-df-quickchart {\n",
              "      --bg-color: #E8F0FE;\n",
              "      --fill-color: #1967D2;\n",
              "      --hover-bg-color: #E2EBFA;\n",
              "      --hover-fill-color: #174EA6;\n",
              "      --disabled-fill-color: #AAA;\n",
              "      --disabled-bg-color: #DDD;\n",
              "  }\n",
              "\n",
              "  [theme=dark] .colab-df-quickchart {\n",
              "      --bg-color: #3B4455;\n",
              "      --fill-color: #D2E3FC;\n",
              "      --hover-bg-color: #434B5C;\n",
              "      --hover-fill-color: #FFFFFF;\n",
              "      --disabled-bg-color: #3B4455;\n",
              "      --disabled-fill-color: #666;\n",
              "  }\n",
              "\n",
              "  .colab-df-quickchart {\n",
              "    background-color: var(--bg-color);\n",
              "    border: none;\n",
              "    border-radius: 50%;\n",
              "    cursor: pointer;\n",
              "    display: none;\n",
              "    fill: var(--fill-color);\n",
              "    height: 32px;\n",
              "    padding: 0;\n",
              "    width: 32px;\n",
              "  }\n",
              "\n",
              "  .colab-df-quickchart:hover {\n",
              "    background-color: var(--hover-bg-color);\n",
              "    box-shadow: 0 1px 2px rgba(60, 64, 67, 0.3), 0 1px 3px 1px rgba(60, 64, 67, 0.15);\n",
              "    fill: var(--button-hover-fill-color);\n",
              "  }\n",
              "\n",
              "  .colab-df-quickchart-complete:disabled,\n",
              "  .colab-df-quickchart-complete:disabled:hover {\n",
              "    background-color: var(--disabled-bg-color);\n",
              "    fill: var(--disabled-fill-color);\n",
              "    box-shadow: none;\n",
              "  }\n",
              "\n",
              "  .colab-df-spinner {\n",
              "    border: 2px solid var(--fill-color);\n",
              "    border-color: transparent;\n",
              "    border-bottom-color: var(--fill-color);\n",
              "    animation:\n",
              "      spin 1s steps(1) infinite;\n",
              "  }\n",
              "\n",
              "  @keyframes spin {\n",
              "    0% {\n",
              "      border-color: transparent;\n",
              "      border-bottom-color: var(--fill-color);\n",
              "      border-left-color: var(--fill-color);\n",
              "    }\n",
              "    20% {\n",
              "      border-color: transparent;\n",
              "      border-left-color: var(--fill-color);\n",
              "      border-top-color: var(--fill-color);\n",
              "    }\n",
              "    30% {\n",
              "      border-color: transparent;\n",
              "      border-left-color: var(--fill-color);\n",
              "      border-top-color: var(--fill-color);\n",
              "      border-right-color: var(--fill-color);\n",
              "    }\n",
              "    40% {\n",
              "      border-color: transparent;\n",
              "      border-right-color: var(--fill-color);\n",
              "      border-top-color: var(--fill-color);\n",
              "    }\n",
              "    60% {\n",
              "      border-color: transparent;\n",
              "      border-right-color: var(--fill-color);\n",
              "    }\n",
              "    80% {\n",
              "      border-color: transparent;\n",
              "      border-right-color: var(--fill-color);\n",
              "      border-bottom-color: var(--fill-color);\n",
              "    }\n",
              "    90% {\n",
              "      border-color: transparent;\n",
              "      border-bottom-color: var(--fill-color);\n",
              "    }\n",
              "  }\n",
              "</style>\n",
              "\n",
              "  <script>\n",
              "    async function quickchart(key) {\n",
              "      const quickchartButtonEl =\n",
              "        document.querySelector('#' + key + ' button');\n",
              "      quickchartButtonEl.disabled = true;  // To prevent multiple clicks.\n",
              "      quickchartButtonEl.classList.add('colab-df-spinner');\n",
              "      try {\n",
              "        const charts = await google.colab.kernel.invokeFunction(\n",
              "            'suggestCharts', [key], {});\n",
              "      } catch (error) {\n",
              "        console.error('Error during call to suggestCharts:', error);\n",
              "      }\n",
              "      quickchartButtonEl.classList.remove('colab-df-spinner');\n",
              "      quickchartButtonEl.classList.add('colab-df-quickchart-complete');\n",
              "    }\n",
              "    (() => {\n",
              "      let quickchartButtonEl =\n",
              "        document.querySelector('#df-a9c50a2e-dc47-4801-9482-457a7692215e button');\n",
              "      quickchartButtonEl.style.display =\n",
              "        google.colab.kernel.accessAllowed ? 'block' : 'none';\n",
              "    })();\n",
              "  </script>\n",
              "</div>\n",
              "\n",
              "    </div>\n",
              "  </div>\n"
            ],
            "application/vnd.google.colaboratory.intrinsic+json": {
              "type": "dataframe",
              "variable_name": "house",
              "summary": "{\n  \"name\": \"house\",\n  \"rows\": 506,\n  \"fields\": [\n    {\n      \"column\": \"CRIM\",\n      \"properties\": {\n        \"dtype\": \"number\",\n        \"std\": 8.60154510533249,\n        \"min\": 0.00632,\n        \"max\": 88.9762,\n        \"num_unique_values\": 504,\n        \"samples\": [\n          0.09178,\n          0.05644,\n          0.10574\n        ],\n        \"semantic_type\": \"\",\n        \"description\": \"\"\n      }\n    },\n    {\n      \"column\": \"ZN\",\n      \"properties\": {\n        \"dtype\": \"number\",\n        \"std\": 23.32245299451514,\n        \"min\": 0.0,\n        \"max\": 100.0,\n        \"num_unique_values\": 26,\n        \"samples\": [\n          25.0,\n          30.0,\n          18.0\n        ],\n        \"semantic_type\": \"\",\n        \"description\": \"\"\n      }\n    },\n    {\n      \"column\": \"INDUS\",\n      \"properties\": {\n        \"dtype\": \"number\",\n        \"std\": 6.860352940897585,\n        \"min\": 0.46,\n        \"max\": 27.74,\n        \"num_unique_values\": 76,\n        \"samples\": [\n          8.14,\n          1.47,\n          1.22\n        ],\n        \"semantic_type\": \"\",\n        \"description\": \"\"\n      }\n    },\n    {\n      \"column\": \"CHAS\",\n      \"properties\": {\n        \"dtype\": \"number\",\n        \"std\": 0,\n        \"min\": 0,\n        \"max\": 1,\n        \"num_unique_values\": 2,\n        \"samples\": [\n          1,\n          0\n        ],\n        \"semantic_type\": \"\",\n        \"description\": \"\"\n      }\n    },\n    {\n      \"column\": \"NX\",\n      \"properties\": {\n        \"dtype\": \"number\",\n        \"std\": 0.11587767566755595,\n        \"min\": 0.385,\n        \"max\": 0.871,\n        \"num_unique_values\": 81,\n        \"samples\": [\n          0.401,\n          0.538\n        ],\n        \"semantic_type\": \"\",\n        \"description\": \"\"\n      }\n    },\n    {\n      \"column\": \"RM\",\n      \"properties\": {\n        \"dtype\": \"number\",\n        \"std\": 0.7026171434153233,\n        \"min\": 3.561,\n        \"max\": 8.78,\n        \"num_unique_values\": 446,\n        \"samples\": [\n          6.849,\n          4.88\n        ],\n        \"semantic_type\": \"\",\n        \"description\": \"\"\n      }\n    },\n    {\n      \"column\": \"AGE\",\n      \"properties\": {\n        \"dtype\": \"number\",\n        \"std\": 28.148861406903617,\n        \"min\": 2.9,\n        \"max\": 100.0,\n        \"num_unique_values\": 356,\n        \"samples\": [\n          51.8,\n          33.8\n        ],\n        \"semantic_type\": \"\",\n        \"description\": \"\"\n      }\n    },\n    {\n      \"column\": \"DIS\",\n      \"properties\": {\n        \"dtype\": \"number\",\n        \"std\": 2.105710126627611,\n        \"min\": 1.1296,\n        \"max\": 12.1265,\n        \"num_unique_values\": 412,\n        \"samples\": [\n          2.2955,\n          4.2515\n        ],\n        \"semantic_type\": \"\",\n        \"description\": \"\"\n      }\n    },\n    {\n      \"column\": \"RAD\",\n      \"properties\": {\n        \"dtype\": \"number\",\n        \"std\": 8,\n        \"min\": 1,\n        \"max\": 24,\n        \"num_unique_values\": 9,\n        \"samples\": [\n          7,\n          2\n        ],\n        \"semantic_type\": \"\",\n        \"description\": \"\"\n      }\n    },\n    {\n      \"column\": \"TAX\",\n      \"properties\": {\n        \"dtype\": \"number\",\n        \"std\": 168.53711605495903,\n        \"min\": 187.0,\n        \"max\": 711.0,\n        \"num_unique_values\": 66,\n        \"samples\": [\n          370.0,\n          666.0\n        ],\n        \"semantic_type\": \"\",\n        \"description\": \"\"\n      }\n    },\n    {\n      \"column\": \"PTRATIO\",\n      \"properties\": {\n        \"dtype\": \"number\",\n        \"std\": 2.1649455237144406,\n        \"min\": 12.6,\n        \"max\": 22.0,\n        \"num_unique_values\": 46,\n        \"samples\": [\n          19.6,\n          15.6\n        ],\n        \"semantic_type\": \"\",\n        \"description\": \"\"\n      }\n    },\n    {\n      \"column\": \"B\",\n      \"properties\": {\n        \"dtype\": \"number\",\n        \"std\": 91.29486438415783,\n        \"min\": 0.32,\n        \"max\": 396.9,\n        \"num_unique_values\": 357,\n        \"samples\": [\n          396.24,\n          395.11\n        ],\n        \"semantic_type\": \"\",\n        \"description\": \"\"\n      }\n    },\n    {\n      \"column\": \"LSTAT\",\n      \"properties\": {\n        \"dtype\": \"number\",\n        \"std\": 7.141061511348571,\n        \"min\": 1.73,\n        \"max\": 37.97,\n        \"num_unique_values\": 455,\n        \"samples\": [\n          6.15,\n          4.32\n        ],\n        \"semantic_type\": \"\",\n        \"description\": \"\"\n      }\n    },\n    {\n      \"column\": \"MEDV\",\n      \"properties\": {\n        \"dtype\": \"number\",\n        \"std\": 9.197104087379818,\n        \"min\": 5.0,\n        \"max\": 50.0,\n        \"num_unique_values\": 229,\n        \"samples\": [\n          14.1,\n          22.5\n        ],\n        \"semantic_type\": \"\",\n        \"description\": \"\"\n      }\n    }\n  ]\n}"
            }
          },
          "metadata": {},
          "execution_count": 2
        }
      ]
    },
    {
      "cell_type": "code",
      "source": [
        "#read colab data in spark\n",
        "house = spark.read.csv('/content/house', header = True, inferSchema = True)"
      ],
      "metadata": {
        "id": "ASO4u6ZxjTrB"
      },
      "execution_count": 13,
      "outputs": []
    },
    {
      "cell_type": "code",
      "source": [
        "house.show()"
      ],
      "metadata": {
        "colab": {
          "base_uri": "https://localhost:8080/"
        },
        "id": "AaOCkBk8kz-0",
        "outputId": "4127ab77-cda2-4a70-dee9-f7aded1c6e45"
      },
      "execution_count": 14,
      "outputs": [
        {
          "output_type": "stream",
          "name": "stdout",
          "text": [
            "+---+------------------+----+-----+----+-----+-----+-----+------+---+-----+-------+------+-----+----+\n",
            "|_c0|              CRIM|  ZN|INDUS|CHAS|   NX|   RM|  AGE|   DIS|RAD|  TAX|PTRATIO|     B|LSTAT|MEDV|\n",
            "+---+------------------+----+-----+----+-----+-----+-----+------+---+-----+-------+------+-----+----+\n",
            "|  0|           0.00632|18.0| 2.31|   0|0.538|6.575| 65.2|  4.09|  1|296.0|   15.3| 396.9| 4.98|24.0|\n",
            "|  1|           0.02731| 0.0| 7.07|   0|0.469|6.421| 78.9|4.9671|  2|242.0|   17.8| 396.9| 9.14|21.6|\n",
            "|  2|           0.02729| 0.0| 7.07|   0|0.469|7.185| 61.1|4.9671|  2|242.0|   17.8|392.83| 4.03|34.7|\n",
            "|  3|0.0323699999999999| 0.0| 2.18|   0|0.458|6.998| 45.8|6.0622|  3|222.0|   18.7|394.63| 2.94|33.4|\n",
            "|  4|           0.06905| 0.0| 2.18|   0|0.458|7.147| 54.2|6.0622|  3|222.0|   18.7| 396.9| 5.33|36.2|\n",
            "|  5|           0.02985| 0.0| 2.18|   0|0.458| 6.43| 58.7|6.0622|  3|222.0|   18.7|394.12| 5.21|28.7|\n",
            "|  6|           0.08829|12.5| 7.87|   0|0.524|6.012| 66.6|5.5605|  5|311.0|   15.2| 395.6|12.43|22.9|\n",
            "|  7|           0.14455|12.5| 7.87|   0|0.524|6.172| 96.1|5.9505|  5|311.0|   15.2| 396.9|19.15|27.1|\n",
            "|  8|           0.21124|12.5| 7.87|   0|0.524|5.631|100.0|6.0821|  5|311.0|   15.2|386.63|29.93|16.5|\n",
            "|  9|           0.17004|12.5| 7.87|   0|0.524|6.004| 85.9|6.5921|  5|311.0|   15.2|386.71| 17.1|18.9|\n",
            "| 10|           0.22489|12.5| 7.87|   0|0.524|6.377| 94.3|6.3467|  5|311.0|   15.2|392.52|20.45|15.0|\n",
            "| 11|           0.11747|12.5| 7.87|   0|0.524|6.009| 82.9|6.2267|  5|311.0|   15.2| 396.9|13.27|18.9|\n",
            "| 12|           0.09378|12.5| 7.87|   0|0.524|5.889| 39.0|5.4509|  5|311.0|   15.2| 390.5|15.71|21.7|\n",
            "| 13|           0.62976| 0.0| 8.14|   0|0.538|5.949| 61.8|4.7075|  4|307.0|   21.0| 396.9| 8.26|20.4|\n",
            "| 14|0.6379600000000001| 0.0| 8.14|   0|0.538|6.096| 84.5|4.4619|  4|307.0|   21.0|380.02|10.26|18.2|\n",
            "| 15|           0.62739| 0.0| 8.14|   0|0.538|5.834| 56.5|4.4986|  4|307.0|   21.0|395.62| 8.47|19.9|\n",
            "| 16|           1.05393| 0.0| 8.14|   0|0.538|5.935| 29.3|4.4986|  4|307.0|   21.0|386.85| 6.58|23.1|\n",
            "| 17|            0.7842| 0.0| 8.14|   0|0.538| 5.99| 81.7|4.2579|  4|307.0|   21.0|386.75|14.67|17.5|\n",
            "| 18|           0.80271| 0.0| 8.14|   0|0.538|5.456| 36.6|3.7965|  4|307.0|   21.0|288.99|11.69|20.2|\n",
            "| 19|            0.7258| 0.0| 8.14|   0|0.538|5.727| 69.5|3.7965|  4|307.0|   21.0|390.95|11.28|18.2|\n",
            "+---+------------------+----+-----+----+-----+-----+-----+------+---+-----+-------+------+-----+----+\n",
            "only showing top 20 rows\n",
            "\n"
          ]
        }
      ]
    },
    {
      "cell_type": "code",
      "source": [
        "house.printSchema()"
      ],
      "metadata": {
        "colab": {
          "base_uri": "https://localhost:8080/"
        },
        "id": "2gIwJ3LOlNGy",
        "outputId": "5894503d-3b52-4fd8-e4a0-d020a3472258"
      },
      "execution_count": 15,
      "outputs": [
        {
          "output_type": "stream",
          "name": "stdout",
          "text": [
            "root\n",
            " |-- _c0: integer (nullable = true)\n",
            " |-- CRIM: double (nullable = true)\n",
            " |-- ZN: double (nullable = true)\n",
            " |-- INDUS: double (nullable = true)\n",
            " |-- CHAS: integer (nullable = true)\n",
            " |-- NX: double (nullable = true)\n",
            " |-- RM: double (nullable = true)\n",
            " |-- AGE: double (nullable = true)\n",
            " |-- DIS: double (nullable = true)\n",
            " |-- RAD: integer (nullable = true)\n",
            " |-- TAX: double (nullable = true)\n",
            " |-- PTRATIO: double (nullable = true)\n",
            " |-- B: double (nullable = true)\n",
            " |-- LSTAT: double (nullable = true)\n",
            " |-- MEDV: double (nullable = true)\n",
            "\n"
          ]
        }
      ]
    },
    {
      "cell_type": "code",
      "source": [
        "house.columns"
      ],
      "metadata": {
        "colab": {
          "base_uri": "https://localhost:8080/"
        },
        "id": "GTggSWcvlrow",
        "outputId": "4b64cc0f-7480-45dc-f798-a671531383da"
      },
      "execution_count": 16,
      "outputs": [
        {
          "output_type": "execute_result",
          "data": {
            "text/plain": [
              "['_c0',\n",
              " 'CRIM',\n",
              " 'ZN',\n",
              " 'INDUS',\n",
              " 'CHAS',\n",
              " 'NX',\n",
              " 'RM',\n",
              " 'AGE',\n",
              " 'DIS',\n",
              " 'RAD',\n",
              " 'TAX',\n",
              " 'PTRATIO',\n",
              " 'B',\n",
              " 'LSTAT',\n",
              " 'MEDV']"
            ]
          },
          "metadata": {},
          "execution_count": 16
        }
      ]
    },
    {
      "cell_type": "code",
      "source": [
        "# add Feature Column\n",
        "from pyspark.ml.feature import VectorAssembler\n",
        "featureassembler = VectorAssembler(inputCols=['_c0',\n",
        " 'CRIM',\n",
        " 'ZN',\n",
        " 'INDUS',\n",
        " 'CHAS',\n",
        " 'NX',\n",
        " 'RM',\n",
        " 'AGE',\n",
        " 'DIS',\n",
        " 'RAD',\n",
        " 'TAX',\n",
        " 'PTRATIO',\n",
        " 'B',\n",
        " 'LSTAT'], outputCol='Features')"
      ],
      "metadata": {
        "id": "kAEkGXyrnR5T"
      },
      "execution_count": 25,
      "outputs": []
    },
    {
      "cell_type": "code",
      "source": [
        "output= featureassembler.transform(house)"
      ],
      "metadata": {
        "id": "WhFEDm6jnw3s"
      },
      "execution_count": 26,
      "outputs": []
    },
    {
      "cell_type": "code",
      "source": [
        "output.show()"
      ],
      "metadata": {
        "colab": {
          "base_uri": "https://localhost:8080/"
        },
        "id": "vQlGJzFtn3GY",
        "outputId": "0695261d-aa78-417f-a88f-38f60494fa5d"
      },
      "execution_count": 27,
      "outputs": [
        {
          "output_type": "stream",
          "name": "stdout",
          "text": [
            "+---+------------------+----+-----+----+-----+-----+-----+------+---+-----+-------+------+-----+----+--------------------+\n",
            "|_c0|              CRIM|  ZN|INDUS|CHAS|   NX|   RM|  AGE|   DIS|RAD|  TAX|PTRATIO|     B|LSTAT|MEDV|            Features|\n",
            "+---+------------------+----+-----+----+-----+-----+-----+------+---+-----+-------+------+-----+----+--------------------+\n",
            "|  0|           0.00632|18.0| 2.31|   0|0.538|6.575| 65.2|  4.09|  1|296.0|   15.3| 396.9| 4.98|24.0|[0.0,0.00632,18.0...|\n",
            "|  1|           0.02731| 0.0| 7.07|   0|0.469|6.421| 78.9|4.9671|  2|242.0|   17.8| 396.9| 9.14|21.6|[1.0,0.02731,0.0,...|\n",
            "|  2|           0.02729| 0.0| 7.07|   0|0.469|7.185| 61.1|4.9671|  2|242.0|   17.8|392.83| 4.03|34.7|[2.0,0.02729,0.0,...|\n",
            "|  3|0.0323699999999999| 0.0| 2.18|   0|0.458|6.998| 45.8|6.0622|  3|222.0|   18.7|394.63| 2.94|33.4|[3.0,0.0323699999...|\n",
            "|  4|           0.06905| 0.0| 2.18|   0|0.458|7.147| 54.2|6.0622|  3|222.0|   18.7| 396.9| 5.33|36.2|[4.0,0.06905,0.0,...|\n",
            "|  5|           0.02985| 0.0| 2.18|   0|0.458| 6.43| 58.7|6.0622|  3|222.0|   18.7|394.12| 5.21|28.7|[5.0,0.02985,0.0,...|\n",
            "|  6|           0.08829|12.5| 7.87|   0|0.524|6.012| 66.6|5.5605|  5|311.0|   15.2| 395.6|12.43|22.9|[6.0,0.08829,12.5...|\n",
            "|  7|           0.14455|12.5| 7.87|   0|0.524|6.172| 96.1|5.9505|  5|311.0|   15.2| 396.9|19.15|27.1|[7.0,0.14455,12.5...|\n",
            "|  8|           0.21124|12.5| 7.87|   0|0.524|5.631|100.0|6.0821|  5|311.0|   15.2|386.63|29.93|16.5|[8.0,0.21124,12.5...|\n",
            "|  9|           0.17004|12.5| 7.87|   0|0.524|6.004| 85.9|6.5921|  5|311.0|   15.2|386.71| 17.1|18.9|[9.0,0.17004,12.5...|\n",
            "| 10|           0.22489|12.5| 7.87|   0|0.524|6.377| 94.3|6.3467|  5|311.0|   15.2|392.52|20.45|15.0|[10.0,0.22489,12....|\n",
            "| 11|           0.11747|12.5| 7.87|   0|0.524|6.009| 82.9|6.2267|  5|311.0|   15.2| 396.9|13.27|18.9|[11.0,0.11747,12....|\n",
            "| 12|           0.09378|12.5| 7.87|   0|0.524|5.889| 39.0|5.4509|  5|311.0|   15.2| 390.5|15.71|21.7|[12.0,0.09378,12....|\n",
            "| 13|           0.62976| 0.0| 8.14|   0|0.538|5.949| 61.8|4.7075|  4|307.0|   21.0| 396.9| 8.26|20.4|[13.0,0.62976,0.0...|\n",
            "| 14|0.6379600000000001| 0.0| 8.14|   0|0.538|6.096| 84.5|4.4619|  4|307.0|   21.0|380.02|10.26|18.2|[14.0,0.637960000...|\n",
            "| 15|           0.62739| 0.0| 8.14|   0|0.538|5.834| 56.5|4.4986|  4|307.0|   21.0|395.62| 8.47|19.9|[15.0,0.62739,0.0...|\n",
            "| 16|           1.05393| 0.0| 8.14|   0|0.538|5.935| 29.3|4.4986|  4|307.0|   21.0|386.85| 6.58|23.1|[16.0,1.05393,0.0...|\n",
            "| 17|            0.7842| 0.0| 8.14|   0|0.538| 5.99| 81.7|4.2579|  4|307.0|   21.0|386.75|14.67|17.5|[17.0,0.7842,0.0,...|\n",
            "| 18|           0.80271| 0.0| 8.14|   0|0.538|5.456| 36.6|3.7965|  4|307.0|   21.0|288.99|11.69|20.2|[18.0,0.80271,0.0...|\n",
            "| 19|            0.7258| 0.0| 8.14|   0|0.538|5.727| 69.5|3.7965|  4|307.0|   21.0|390.95|11.28|18.2|[19.0,0.7258,0.0,...|\n",
            "+---+------------------+----+-----+----+-----+-----+-----+------+---+-----+-------+------+-----+----+--------------------+\n",
            "only showing top 20 rows\n",
            "\n"
          ]
        }
      ]
    },
    {
      "cell_type": "code",
      "source": [
        "output.select('Features').show()"
      ],
      "metadata": {
        "colab": {
          "base_uri": "https://localhost:8080/"
        },
        "id": "IkXuRloCocj8",
        "outputId": "0c550f16-57ba-4dd8-9d77-a87017e0577c"
      },
      "execution_count": 28,
      "outputs": [
        {
          "output_type": "stream",
          "name": "stdout",
          "text": [
            "+--------------------+\n",
            "|            Features|\n",
            "+--------------------+\n",
            "|[0.0,0.00632,18.0...|\n",
            "|[1.0,0.02731,0.0,...|\n",
            "|[2.0,0.02729,0.0,...|\n",
            "|[3.0,0.0323699999...|\n",
            "|[4.0,0.06905,0.0,...|\n",
            "|[5.0,0.02985,0.0,...|\n",
            "|[6.0,0.08829,12.5...|\n",
            "|[7.0,0.14455,12.5...|\n",
            "|[8.0,0.21124,12.5...|\n",
            "|[9.0,0.17004,12.5...|\n",
            "|[10.0,0.22489,12....|\n",
            "|[11.0,0.11747,12....|\n",
            "|[12.0,0.09378,12....|\n",
            "|[13.0,0.62976,0.0...|\n",
            "|[14.0,0.637960000...|\n",
            "|[15.0,0.62739,0.0...|\n",
            "|[16.0,1.05393,0.0...|\n",
            "|[17.0,0.7842,0.0,...|\n",
            "|[18.0,0.80271,0.0...|\n",
            "|[19.0,0.7258,0.0,...|\n",
            "+--------------------+\n",
            "only showing top 20 rows\n",
            "\n"
          ]
        }
      ]
    },
    {
      "cell_type": "code",
      "source": [
        "#show only X and Y axis colu\n",
        "modeldata = output.select('Features','Medv')"
      ],
      "metadata": {
        "id": "oRgTGImcpP-z"
      },
      "execution_count": 30,
      "outputs": []
    },
    {
      "cell_type": "code",
      "source": [
        "modeldata.show()"
      ],
      "metadata": {
        "colab": {
          "base_uri": "https://localhost:8080/"
        },
        "id": "IN18piwnphLY",
        "outputId": "7de85036-b3da-4801-8013-eb1b06fb92f4"
      },
      "execution_count": 31,
      "outputs": [
        {
          "output_type": "stream",
          "name": "stdout",
          "text": [
            "+--------------------+----+\n",
            "|            Features|Medv|\n",
            "+--------------------+----+\n",
            "|[0.0,0.00632,18.0...|24.0|\n",
            "|[1.0,0.02731,0.0,...|21.6|\n",
            "|[2.0,0.02729,0.0,...|34.7|\n",
            "|[3.0,0.0323699999...|33.4|\n",
            "|[4.0,0.06905,0.0,...|36.2|\n",
            "|[5.0,0.02985,0.0,...|28.7|\n",
            "|[6.0,0.08829,12.5...|22.9|\n",
            "|[7.0,0.14455,12.5...|27.1|\n",
            "|[8.0,0.21124,12.5...|16.5|\n",
            "|[9.0,0.17004,12.5...|18.9|\n",
            "|[10.0,0.22489,12....|15.0|\n",
            "|[11.0,0.11747,12....|18.9|\n",
            "|[12.0,0.09378,12....|21.7|\n",
            "|[13.0,0.62976,0.0...|20.4|\n",
            "|[14.0,0.637960000...|18.2|\n",
            "|[15.0,0.62739,0.0...|19.9|\n",
            "|[16.0,1.05393,0.0...|23.1|\n",
            "|[17.0,0.7842,0.0,...|17.5|\n",
            "|[18.0,0.80271,0.0...|20.2|\n",
            "|[19.0,0.7258,0.0,...|18.2|\n",
            "+--------------------+----+\n",
            "only showing top 20 rows\n",
            "\n"
          ]
        }
      ]
    },
    {
      "cell_type": "code",
      "source": [
        "train_data,test_data = modeldata.randomSplit([0.8,0.2])"
      ],
      "metadata": {
        "id": "-STC-IhOuUsN"
      },
      "execution_count": 32,
      "outputs": []
    },
    {
      "cell_type": "code",
      "source": [
        "train_data.show()"
      ],
      "metadata": {
        "colab": {
          "base_uri": "https://localhost:8080/"
        },
        "id": "HSxdoXJtukb_",
        "outputId": "23645604-d88a-4244-a1dd-10576fef32d9"
      },
      "execution_count": 33,
      "outputs": [
        {
          "output_type": "stream",
          "name": "stdout",
          "text": [
            "+--------------------+----+\n",
            "|            Features|Medv|\n",
            "+--------------------+----+\n",
            "|[0.0,0.00632,18.0...|24.0|\n",
            "|[1.0,0.02731,0.0,...|21.6|\n",
            "|[2.0,0.02729,0.0,...|34.7|\n",
            "|[3.0,0.0323699999...|33.4|\n",
            "|[4.0,0.06905,0.0,...|36.2|\n",
            "|[5.0,0.02985,0.0,...|28.7|\n",
            "|[6.0,0.08829,12.5...|22.9|\n",
            "|[7.0,0.14455,12.5...|27.1|\n",
            "|[9.0,0.17004,12.5...|18.9|\n",
            "|[12.0,0.09378,12....|21.7|\n",
            "|[13.0,0.62976,0.0...|20.4|\n",
            "|[14.0,0.637960000...|18.2|\n",
            "|[17.0,0.7842,0.0,...|17.5|\n",
            "|[18.0,0.80271,0.0...|20.2|\n",
            "|[19.0,0.7258,0.0,...|18.2|\n",
            "|[20.0,1.25179,0.0...|13.6|\n",
            "|[22.0,1.232470000...|15.2|\n",
            "|[23.0,0.98843,0.0...|14.5|\n",
            "|[24.0,0.75026,0.0...|15.6|\n",
            "|[25.0,0.84054,0.0...|13.9|\n",
            "+--------------------+----+\n",
            "only showing top 20 rows\n",
            "\n"
          ]
        }
      ]
    },
    {
      "cell_type": "code",
      "source": [
        "#regression model\n",
        "from pyspark.ml.regression import LinearRegression"
      ],
      "metadata": {
        "id": "g2RBx42guuBz"
      },
      "execution_count": 34,
      "outputs": []
    },
    {
      "cell_type": "code",
      "source": [
        "reg = LinearRegression(featuresCol='Features', labelCol='Medv')"
      ],
      "metadata": {
        "id": "63A3OZRSysRd"
      },
      "execution_count": 35,
      "outputs": []
    },
    {
      "cell_type": "code",
      "source": [
        "reg = reg.fit(train_data)"
      ],
      "metadata": {
        "id": "sVlamR8vy3KF"
      },
      "execution_count": 36,
      "outputs": []
    },
    {
      "cell_type": "code",
      "source": [
        "reg.coefficients"
      ],
      "metadata": {
        "id": "6GI5Maq3y-Mm",
        "outputId": "a6d3e4be-58de-4d6c-877e-cc19868c9f12",
        "colab": {
          "base_uri": "https://localhost:8080/"
        }
      },
      "execution_count": 37,
      "outputs": [
        {
          "output_type": "execute_result",
          "data": {
            "text/plain": [
              "DenseVector([-0.0019, -0.0402, 0.0417, 0.0396, 2.7408, -17.6431, 4.0852, 0.0033, -1.2877, 0.2717, -0.0107, -0.979, 0.0095, -0.5135])"
            ]
          },
          "metadata": {},
          "execution_count": 37
        }
      ]
    },
    {
      "cell_type": "code",
      "source": [
        "reg.intercept"
      ],
      "metadata": {
        "id": "syOwaPevzEDE",
        "outputId": "fc5cf1d7-b394-464d-ffb2-dbe539d4d952",
        "colab": {
          "base_uri": "https://localhost:8080/"
        }
      },
      "execution_count": 38,
      "outputs": [
        {
          "output_type": "execute_result",
          "data": {
            "text/plain": [
              "33.935636018179316"
            ]
          },
          "metadata": {},
          "execution_count": 38
        }
      ]
    },
    {
      "cell_type": "code",
      "source": [
        "#prediction\n",
        "reg.transform(test_data).show()"
      ],
      "metadata": {
        "id": "MErws-28zH9o",
        "outputId": "e3bb09f9-38d4-4647-e5e5-017978ce5e2c",
        "colab": {
          "base_uri": "https://localhost:8080/"
        }
      },
      "execution_count": 39,
      "outputs": [
        {
          "output_type": "stream",
          "name": "stdout",
          "text": [
            "+--------------------+----+------------------+\n",
            "|            Features|Medv|        prediction|\n",
            "+--------------------+----+------------------+\n",
            "|[8.0,0.21124,12.5...|16.5|12.454604998131092|\n",
            "|[10.0,0.22489,12....|15.0| 20.06196105631397|\n",
            "|[11.0,0.11747,12....|18.9|22.405955973410663|\n",
            "|[15.0,0.62739,0.0...|19.9|19.587589292524456|\n",
            "|[16.0,1.05393,0.0...|23.1| 20.77740420661507|\n",
            "|[21.0,0.852039999...|19.6|18.056069642683518|\n",
            "|[35.0,0.06417,0.0...|18.9| 23.80698315358798|\n",
            "|[38.0,0.17505,0.0...|24.7| 22.91318684987597|\n",
            "|[52.0,0.0536,21.0...|25.0| 28.17440878435125|\n",
            "|[57.0,0.01432,100...|31.6|33.594205919684214|\n",
            "|[58.0,0.15445,25....|23.3|22.241741720565514|\n",
            "|[62.0,0.11027,25....|22.2|24.520127915627803|\n",
            "|[66.0,0.043789999...|19.4|25.713434065493367|\n",
            "|[77.0,0.08707,0.0...|20.8| 23.74038206746958|\n",
            "|[97.0,0.120829999...|38.7| 36.29526540797574|\n",
            "|[99.0,0.0686,0.0,...|33.2| 32.56389271304494|\n",
            "|[101.0,0.11432,0....|26.5|25.766110239628123|\n",
            "|[107.0,0.13117,0....|20.4|20.701842257178562|\n",
            "|[108.0,0.12802,0....|19.8|22.763824703887828|\n",
            "|[129.0,0.88125,0....|14.3|14.307673020408988|\n",
            "+--------------------+----+------------------+\n",
            "only showing top 20 rows\n",
            "\n"
          ]
        }
      ]
    },
    {
      "cell_type": "code",
      "source": [
        "y_pred=reg.evaluate(test_data)"
      ],
      "metadata": {
        "id": "H77Mfcy9zWOA"
      },
      "execution_count": 40,
      "outputs": []
    },
    {
      "cell_type": "code",
      "source": [
        "y_pred.predictions.show()"
      ],
      "metadata": {
        "id": "nbihFklIzdrr",
        "outputId": "de9a8cb0-c5ae-4ead-81cd-eb97c1025bf9",
        "colab": {
          "base_uri": "https://localhost:8080/"
        }
      },
      "execution_count": 41,
      "outputs": [
        {
          "output_type": "stream",
          "name": "stdout",
          "text": [
            "+--------------------+----+------------------+\n",
            "|            Features|Medv|        prediction|\n",
            "+--------------------+----+------------------+\n",
            "|[8.0,0.21124,12.5...|16.5|12.454604998131092|\n",
            "|[10.0,0.22489,12....|15.0| 20.06196105631397|\n",
            "|[11.0,0.11747,12....|18.9|22.405955973410663|\n",
            "|[15.0,0.62739,0.0...|19.9|19.587589292524456|\n",
            "|[16.0,1.05393,0.0...|23.1| 20.77740420661507|\n",
            "|[21.0,0.852039999...|19.6|18.056069642683518|\n",
            "|[35.0,0.06417,0.0...|18.9| 23.80698315358798|\n",
            "|[38.0,0.17505,0.0...|24.7| 22.91318684987597|\n",
            "|[52.0,0.0536,21.0...|25.0| 28.17440878435125|\n",
            "|[57.0,0.01432,100...|31.6|33.594205919684214|\n",
            "|[58.0,0.15445,25....|23.3|22.241741720565514|\n",
            "|[62.0,0.11027,25....|22.2|24.520127915627803|\n",
            "|[66.0,0.043789999...|19.4|25.713434065493367|\n",
            "|[77.0,0.08707,0.0...|20.8| 23.74038206746958|\n",
            "|[97.0,0.120829999...|38.7| 36.29526540797574|\n",
            "|[99.0,0.0686,0.0,...|33.2| 32.56389271304494|\n",
            "|[101.0,0.11432,0....|26.5|25.766110239628123|\n",
            "|[107.0,0.13117,0....|20.4|20.701842257178562|\n",
            "|[108.0,0.12802,0....|19.8|22.763824703887828|\n",
            "|[129.0,0.88125,0....|14.3|14.307673020408988|\n",
            "+--------------------+----+------------------+\n",
            "only showing top 20 rows\n",
            "\n"
          ]
        }
      ]
    },
    {
      "cell_type": "code",
      "source": [
        "y_pred.meanAbsoluteError"
      ],
      "metadata": {
        "id": "2Tq_woB8zkm4",
        "outputId": "46362831-93cd-47e1-b0b4-24ebdc4f3856",
        "colab": {
          "base_uri": "https://localhost:8080/"
        }
      },
      "execution_count": 42,
      "outputs": [
        {
          "output_type": "execute_result",
          "data": {
            "text/plain": [
              "3.3924649526229893"
            ]
          },
          "metadata": {},
          "execution_count": 42
        }
      ]
    },
    {
      "cell_type": "code",
      "source": [
        "y_pred.r2"
      ],
      "metadata": {
        "id": "XZj_n5gJzpnm",
        "outputId": "add43a08-03d6-4e61-96f3-2f75dfe4a4d8",
        "colab": {
          "base_uri": "https://localhost:8080/"
        }
      },
      "execution_count": 43,
      "outputs": [
        {
          "output_type": "execute_result",
          "data": {
            "text/plain": [
              "0.7284111551070419"
            ]
          },
          "metadata": {},
          "execution_count": 43
        }
      ]
    },
    {
      "cell_type": "code",
      "source": [
        "#close connection to spark only at the end\n",
        "spark.stop()"
      ],
      "metadata": {
        "id": "6E_-6F_tzt7I"
      },
      "execution_count": 44,
      "outputs": []
    }
  ]
}